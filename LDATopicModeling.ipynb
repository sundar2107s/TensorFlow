{
 "cells": [
  {
   "cell_type": "markdown",
   "metadata": {},
   "source": [
    "Author: Sridhar Nerur\n",
    "This notebook demostrates the use of sklearn's LDA for Topic Modeling."
   ]
  },
  {
   "cell_type": "code",
   "execution_count": 2,
   "metadata": {},
   "outputs": [
    {
     "name": "stdout",
     "output_type": "stream",
     "text": [
      "Collecting mglearn\n",
      "  Downloading https://files.pythonhosted.org/packages/87/6e/83de2a2279bb4e076f330e8c1c18f80e036e4e1097aa0a8288c4c7fd198f/mglearn-0.1.6.tar.gz (541kB)\n",
      "\u001b[K    100% |████████████████████████████████| 542kB 1.9MB/s ta 0:00:011\n",
      "\u001b[?25hRequirement already satisfied: numpy in ./anaconda3/lib/python3.6/site-packages (from mglearn)\n",
      "Requirement already satisfied: matplotlib in ./anaconda3/lib/python3.6/site-packages (from mglearn)\n",
      "Requirement already satisfied: scikit-learn in ./anaconda3/lib/python3.6/site-packages (from mglearn)\n",
      "Requirement already satisfied: pandas in ./anaconda3/lib/python3.6/site-packages (from mglearn)\n",
      "Requirement already satisfied: pillow in ./anaconda3/lib/python3.6/site-packages (from mglearn)\n",
      "Requirement already satisfied: cycler in ./anaconda3/lib/python3.6/site-packages (from mglearn)\n",
      "Requirement already satisfied: pytz in ./anaconda3/lib/python3.6/site-packages (from matplotlib->mglearn)\n",
      "Requirement already satisfied: python-dateutil>=2.1 in ./anaconda3/lib/python3.6/site-packages (from matplotlib->mglearn)\n",
      "Requirement already satisfied: six>=1.10 in ./anaconda3/lib/python3.6/site-packages (from matplotlib->mglearn)\n",
      "Requirement already satisfied: pyparsing!=2.0.4,!=2.1.2,!=2.1.6,>=2.0.1 in ./anaconda3/lib/python3.6/site-packages (from matplotlib->mglearn)\n",
      "Requirement already satisfied: kiwisolver>=1.0.1 in ./anaconda3/lib/python3.6/site-packages (from matplotlib->mglearn)\n",
      "Requirement already satisfied: setuptools in ./anaconda3/lib/python3.6/site-packages (from kiwisolver>=1.0.1->matplotlib->mglearn)\n",
      "Building wheels for collected packages: mglearn\n",
      "  Running setup.py bdist_wheel for mglearn ... \u001b[?25ldone\n",
      "\u001b[?25h  Stored in directory: /Users/snerur/Library/Caches/pip/wheels/3b/81/34/a54d61d5d108dfcb016bcd8f4f7d8cc0538994f07704714b8d\n",
      "Successfully built mglearn\n",
      "Installing collected packages: mglearn\n",
      "Successfully installed mglearn-0.1.6\n",
      "\u001b[33mYou are using pip version 9.0.1, however version 18.0 is available.\n",
      "You should consider upgrading via the 'pip install --upgrade pip' command.\u001b[0m\n"
     ]
    }
   ],
   "source": [
    "!pip install mglearn"
   ]
  },
  {
   "cell_type": "code",
   "execution_count": 18,
   "metadata": {},
   "outputs": [],
   "source": [
    "\n",
    "import numpy as np  # a conventional alias\n",
    "import pandas as pd\n",
    "from sklearn.feature_extraction.text import CountVectorizer, TfidfVectorizer\n",
    "import glob\n",
    "import os\n",
    "import string #if you wish to remove punctuation/digits\n",
    "import mglearn\n",
    "from sklearn.decomposition import LatentDirichletAllocation\n",
    "import matplotlib.pyplot as plt\n"
   ]
  },
  {
   "cell_type": "code",
   "execution_count": 7,
   "metadata": {
    "collapsed": true
   },
   "outputs": [],
   "source": [
    "os.chdir(\"/Users/snerur/Dropbox/dc/lemmatized\")\n",
    "files = glob.glob(\"*.txt\")\n"
   ]
  },
  {
   "cell_type": "code",
   "execution_count": 5,
   "metadata": {
    "collapsed": true
   },
   "outputs": [],
   "source": [
    "def get_topics(model, vectorizer, model_name, df, top_n = 20):\n",
    "        result = []\n",
    "        for idx, topic in enumerate(model.components_):\n",
    "            #print(\"Topic %d:\" % (idx))\n",
    "            topic_label = model_name + \"_topic_\" + str(idx)\n",
    "            score = \"SCORE_\" + str(idx)\n",
    "            aList = [(vectorizer.get_feature_names()[i], topic[i])\n",
    "                            for i in topic.argsort()[:-top_n - 1:-1]]\n",
    "            l1, l2 = zip(*aList)\n",
    "            df[topic_label] = l1\n",
    "            df[score] = l2"
   ]
  },
  {
   "cell_type": "code",
   "execution_count": 8,
   "metadata": {},
   "outputs": [],
   "source": [
    "num_topics = 10\n",
    "multiplier = int(num_topics / 2)\n",
    "    \n",
    "corpus = []\n",
    "\n",
    "for f in files:\n",
    "    f_input = open(f, \"r\")\n",
    "    txt = f_input.read()\n",
    "    corpus.append(txt)"
   ]
  },
  {
   "cell_type": "code",
   "execution_count": 9,
   "metadata": {
    "collapsed": true
   },
   "outputs": [],
   "source": [
    "vectorizer = CountVectorizer(stop_words = 'english')\n",
    "dtm = vectorizer.fit_transform(corpus)\n",
    "\n",
    "lda100 = LatentDirichletAllocation(n_components=num_topics, learning_method=\"batch\",\n",
    "                                   max_iter=500, random_state=0)\n",
    "document_topics100 = lda100.fit_transform(dtm)"
   ]
  },
  {
   "cell_type": "code",
   "execution_count": 10,
   "metadata": {},
   "outputs": [
    {
     "data": {
      "text/plain": [
       "(1908, 10)"
      ]
     },
     "execution_count": 10,
     "metadata": {},
     "output_type": "execute_result"
    }
   ],
   "source": [
    "document_topics100.shape"
   ]
  },
  {
   "cell_type": "code",
   "execution_count": 11,
   "metadata": {},
   "outputs": [
    {
     "data": {
      "text/plain": [
       "array([[0.00232565, 0.00232606, 0.00232591, 0.69245136, 0.00232593,\n",
       "        0.00232624, 0.00232615, 0.28894051, 0.00232613, 0.00232607],\n",
       "       [0.0009435 , 0.60189077, 0.00094358, 0.16015805, 0.00094367,\n",
       "        0.00094363, 0.00094368, 0.23134576, 0.00094366, 0.00094369],\n",
       "       [0.00196093, 0.00196131, 0.00196106, 0.33490165, 0.40561185,\n",
       "        0.00196145, 0.24575815, 0.00196111, 0.00196123, 0.00196127]])"
      ]
     },
     "execution_count": 11,
     "metadata": {},
     "output_type": "execute_result"
    }
   ],
   "source": [
    "document_topics100[:3,:]"
   ]
  },
  {
   "cell_type": "code",
   "execution_count": 17,
   "metadata": {},
   "outputs": [
    {
     "data": {
      "text/plain": [
       "(10, 8234)"
      ]
     },
     "execution_count": 17,
     "metadata": {},
     "output_type": "execute_result"
    }
   ],
   "source": [
    "#topics and their words\n",
    "#len(vectorizer.vocabulary_) should give you 8234 - the number of words\n",
    "lda100.components_.shape #gives 10 topics and 8234 words\n"
   ]
  },
  {
   "cell_type": "code",
   "execution_count": 21,
   "metadata": {},
   "outputs": [
    {
     "data": {
      "image/png": "[encoded data removed]",
      "text/plain": [
       "<Figure size 720x720 with 2 Axes>"
      ]
     },
     "metadata": {},
     "output_type": "display_data"
    },
    {
     "data": {
      "image/png": "[encoded data removed]",
      "text/plain": [
       "<Figure size 720x720 with 2 Axes>"
      ]
     },
     "metadata": {},
     "output_type": "display_data"
    }
   ],
   "source": [
    "sorting = np.argsort(lda100.components_, axis=1)[:, ::-1]\n",
    "feature_names = np.array(vectorizer.get_feature_names())\n",
    "\n",
    "fig, ax = plt.subplots(1, 2, figsize=(10, 10))\n",
    "topic_names = [\"{:>2} \".format(i) + \" \".join(words)\n",
    "               for i, words in enumerate(feature_names[sorting[:, :2]])]\n",
    "\n",
    "\n",
    "# two column bar chart:\n",
    "for col in [0, 1]:\n",
    "    start = col * multiplier\n",
    "    end = (col + 1) * multiplier\n",
    "    ax[col].barh(np.arange(multiplier), np.sum(document_topics100, axis=0)[start:end])\n",
    "    ax[col].set_yticks(np.arange(multiplier))\n",
    "    ax[col].set_yticklabels(topic_names[start:end], ha=\"left\", va=\"top\")\n",
    "    ax[col].invert_yaxis()\n",
    "    #ax[col].set_xlim(0, 800)\n",
    "    yax = ax[col].get_yaxis()\n",
    "    yax.set_tick_params(pad=130)\n",
    "plt.tight_layout()\n",
    "plt.show()\n"
   ]
  },
  {
   "cell_type": "code",
   "execution_count": 20,
   "metadata": {},
   "outputs": [
    {
     "name": "stdout",
     "output_type": "stream",
     "text": [
      "topic 0       topic 1       topic 2       topic 3       topic 4       \n",
      "--------      --------      --------      --------      --------      \n",
      "ambidexterity business      chain         firm          innovation    \n",
      "hospital      model         supply        resource      knowledge     \n",
      "trajectory    dynamic       capability    country       firm          \n",
      "power         capability    sustainabilityfamily        product       \n",
      "dynamic       change        supplier      company       capacity      \n",
      "algorithm     market        firm          growth        relationship  \n",
      "control       industry      npd           market        absorptive    \n",
      "sensor        technology    management    institutional capital       \n",
      "use           strategic     resilience    base          technological \n",
      "time          process       sustainable   internationalizationeffect        \n",
      "optimization  digital       dynamic       manager       technology    \n",
      "collaboration environment   process       strategy      industry      \n",
      "signal        platform      use           level         external      \n",
      "capability    enterprise    relationship  network       service       \n",
      "cell          innovation    environmental economy       role          \n",
      "quality       global        practice      advantage     practice      \n",
      "speed         challenge     base          business      development   \n",
      "image         mne           industry      process       positive      \n",
      "sport         company       approach      factor        social        \n",
      "frequency     framework     sc            economic      company       \n",
      "\n",
      "\n",
      "topic 5       topic 6       topic 7       topic 8       topic 9       \n",
      "--------      --------      --------      --------      --------      \n",
      "capability    organizationalvalue         strategic     firm          \n",
      "firm          organization  management    social        capability    \n",
      "dynamic       management    knowledge     strategy      customer      \n",
      "resource      project       business      management    strategy      \n",
      "competitive   process       theory        regional      business      \n",
      "advantage     capability    approach      approach      environmental \n",
      "relationship  change        process       economic      relationship  \n",
      "market        dynamic       base          base          datum         \n",
      "sme           learn         framework     stakeholder   use           \n",
      "orientation   base          analysis      path          model         \n",
      "base          level         development   corporate     organizational\n",
      "strategic     approach      field         practice      flexibility   \n",
      "marketing     framework     creation      risk          service       \n",
      "development   strategic     datum         organization  technology    \n",
      "model         knowledge     model         analysis      base          \n",
      "entrepreneurialmodel         perspective   procurement   resource      \n",
      "business      strategy      theoretical   sscm          value         \n",
      "service       learning      service       development   process       \n",
      "export        organisation  network       public        level         \n",
      "role          practice      information   network       information   \n",
      "\n",
      "\n"
     ]
    }
   ],
   "source": [
    "sorting = np.argsort(lda100.components_, axis=1)[:, ::-1]\n",
    "mglearn.tools.print_topics(topics=range(num_topics), feature_names=feature_names, sorting=sorting, topics_per_chunk=5, n_words=20)"
   ]
  },
  {
   "cell_type": "code",
   "execution_count": null,
   "metadata": {
    "collapsed": true
   },
   "outputs": [],
   "source": []
  }
 ],
 "metadata": {
  "kernelspec": {
   "display_name": "Python 3",
   "language": "python",
   "name": "python3"
  },
  "language_info": {
   "codemirror_mode": {
    "name": "ipython",
    "version": 3
   },
   "file_extension": ".py",
   "mimetype": "text/x-python",
   "name": "python",
   "nbconvert_exporter": "python",
   "pygments_lexer": "ipython3",
   "version": "3.6.3"
  }
 },
 "nbformat": 4,
 "nbformat_minor": 2
}
